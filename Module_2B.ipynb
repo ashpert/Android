{
 "cells": [
  {
   "cell_type": "markdown",
   "metadata": {},
   "source": [
    "# <img style=\"float: left; padding-right: 100px; width: 300px\" src=\"images/logo.png\">Data science Foundation:\n",
    "\n",
    "\n",
    "\n",
    "#### Module 2B: Combining datasets, Group by and Pivoting  operations\n",
    "\n",
    "\n",
    "**Authors:** Ibrahim Mtandu\n",
    "\n",
    "\n",
    "---"
   ]
  },
  {
   "cell_type": "code",
   "execution_count": 1,
   "metadata": {},
   "outputs": [],
   "source": [
    "import numpy as np\n",
    "import pandas as pd"
   ]
  },
  {
   "cell_type": "markdown",
   "metadata": {},
   "source": [
    "# Concatenating data\n",
    "\n",
    "The ``pd.concat`` function does all of the heavy lifting of combining data in different ways. ``pd.concat`` takes a list or dict of Series/DataFrame objects and concatenates them in a certain direction (`axis`) with some configurable handling of “what to do with the other axes”.\n"
   ]
  },
  {
   "cell_type": "markdown",
   "metadata": {},
   "source": [
    "Assume we have the following different:"
   ]
  },
  {
   "cell_type": "code",
   "execution_count": 2,
   "metadata": {},
   "outputs": [
    {
     "data": {
      "text/html": [
       "<div>\n",
       "<style scoped>\n",
       "    .dataframe tbody tr th:only-of-type {\n",
       "        vertical-align: middle;\n",
       "    }\n",
       "\n",
       "    .dataframe tbody tr th {\n",
       "        vertical-align: top;\n",
       "    }\n",
       "\n",
       "    .dataframe thead th {\n",
       "        text-align: right;\n",
       "    }\n",
       "</style>\n",
       "<table border=\"1\" class=\"dataframe\">\n",
       "  <thead>\n",
       "    <tr style=\"text-align: right;\">\n",
       "      <th></th>\n",
       "      <th>country</th>\n",
       "      <th>population</th>\n",
       "      <th>area</th>\n",
       "      <th>capital</th>\n",
       "    </tr>\n",
       "  </thead>\n",
       "  <tbody>\n",
       "    <tr>\n",
       "      <th>0</th>\n",
       "      <td>Nigeria</td>\n",
       "      <td>182.2</td>\n",
       "      <td>923768</td>\n",
       "      <td>Abuja</td>\n",
       "    </tr>\n",
       "    <tr>\n",
       "      <th>1</th>\n",
       "      <td>Rwanda</td>\n",
       "      <td>11.3</td>\n",
       "      <td>26338</td>\n",
       "      <td>Kigali</td>\n",
       "    </tr>\n",
       "    <tr>\n",
       "      <th>2</th>\n",
       "      <td>Egypt</td>\n",
       "      <td>94.3</td>\n",
       "      <td>1010408</td>\n",
       "      <td>Cairo</td>\n",
       "    </tr>\n",
       "    <tr>\n",
       "      <th>3</th>\n",
       "      <td>Morocco</td>\n",
       "      <td>34.4</td>\n",
       "      <td>710850</td>\n",
       "      <td>Rabat</td>\n",
       "    </tr>\n",
       "  </tbody>\n",
       "</table>\n",
       "</div>"
      ],
      "text/plain": [
       "   country  population     area capital\n",
       "0  Nigeria       182.2   923768   Abuja\n",
       "1   Rwanda        11.3    26338  Kigali\n",
       "2    Egypt        94.3  1010408   Cairo\n",
       "3  Morocco        34.4   710850   Rabat"
      ]
     },
     "execution_count": 2,
     "metadata": {},
     "output_type": "execute_result"
    }
   ],
   "source": [
    "data = {'country': ['Nigeria', 'Rwanda', 'Egypt', 'Morocco', ],\n",
    "        'population': [182.2, 11.3, 94.3, 34.4],\n",
    "        'area': [923768, 26338 , 1010408, 710850],\n",
    "        'capital': ['Abuja', 'Kigali', 'Cairo', 'Rabat']}\n",
    "countries_africa = pd.DataFrame(data)\n",
    "countries_africa "
   ]
  },
  {
   "cell_type": "code",
   "execution_count": 4,
   "metadata": {},
   "outputs": [
    {
     "data": {
      "text/html": [
       "<div>\n",
       "<style scoped>\n",
       "    .dataframe tbody tr th:only-of-type {\n",
       "        vertical-align: middle;\n",
       "    }\n",
       "\n",
       "    .dataframe tbody tr th {\n",
       "        vertical-align: top;\n",
       "    }\n",
       "\n",
       "    .dataframe thead th {\n",
       "        text-align: right;\n",
       "    }\n",
       "</style>\n",
       "<table border=\"1\" class=\"dataframe\">\n",
       "  <thead>\n",
       "    <tr style=\"text-align: right;\">\n",
       "      <th></th>\n",
       "      <th>country</th>\n",
       "      <th>population</th>\n",
       "      <th>area</th>\n",
       "      <th>capital</th>\n",
       "    </tr>\n",
       "  </thead>\n",
       "  <tbody>\n",
       "    <tr>\n",
       "      <th>0</th>\n",
       "      <td>Belgium</td>\n",
       "      <td>11.3</td>\n",
       "      <td>30510</td>\n",
       "      <td>Brussels</td>\n",
       "    </tr>\n",
       "    <tr>\n",
       "      <th>1</th>\n",
       "      <td>France</td>\n",
       "      <td>64.3</td>\n",
       "      <td>671308</td>\n",
       "      <td>Paris</td>\n",
       "    </tr>\n",
       "    <tr>\n",
       "      <th>2</th>\n",
       "      <td>Germany</td>\n",
       "      <td>81.3</td>\n",
       "      <td>357050</td>\n",
       "      <td>Berlin</td>\n",
       "    </tr>\n",
       "    <tr>\n",
       "      <th>3</th>\n",
       "      <td>Netherlands</td>\n",
       "      <td>16.9</td>\n",
       "      <td>41526</td>\n",
       "      <td>Amsterdam</td>\n",
       "    </tr>\n",
       "    <tr>\n",
       "      <th>4</th>\n",
       "      <td>United Kingdom</td>\n",
       "      <td>64.9</td>\n",
       "      <td>244820</td>\n",
       "      <td>London</td>\n",
       "    </tr>\n",
       "  </tbody>\n",
       "</table>\n",
       "</div>"
      ],
      "text/plain": [
       "          country  population    area    capital\n",
       "0         Belgium        11.3   30510   Brussels\n",
       "1          France        64.3  671308      Paris\n",
       "2         Germany        81.3  357050     Berlin\n",
       "3     Netherlands        16.9   41526  Amsterdam\n",
       "4  United Kingdom        64.9  244820     London"
      ]
     },
     "execution_count": 4,
     "metadata": {},
     "output_type": "execute_result"
    }
   ],
   "source": [
    "data = {'country': ['Belgium', 'France', 'Germany', 'Netherlands', 'United Kingdom'],\n",
    "        'population': [11.3, 64.3, 81.3, 16.9, 64.9],\n",
    "        'area': [30510, 671308, 357050, 41526, 244820],\n",
    "        'capital': ['Brussels', 'Paris', 'Berlin', 'Amsterdam', 'London']}\n",
    "countries_europe = pd.DataFrame(data)\n",
    "countries_europe"
   ]
  },
  {
   "cell_type": "markdown",
   "metadata": {},
   "source": [
    "<div class=\"alert alert-success\">\n",
    "<b>Activity 1</b>:\n",
    "Add a cloumn for pupulation density in each dataset \n",
    "</div>"
   ]
  },
  {
   "cell_type": "markdown",
   "metadata": {},
   "source": [
    "### Combining rows - ``pd.concat``"
   ]
  },
  {
   "cell_type": "markdown",
   "metadata": {},
   "source": [
    "We now want to combine the rows of both datasets:"
   ]
  },
  {
   "cell_type": "code",
   "execution_count": 5,
   "metadata": {},
   "outputs": [
    {
     "data": {
      "text/html": [
       "<div>\n",
       "<style scoped>\n",
       "    .dataframe tbody tr th:only-of-type {\n",
       "        vertical-align: middle;\n",
       "    }\n",
       "\n",
       "    .dataframe tbody tr th {\n",
       "        vertical-align: top;\n",
       "    }\n",
       "\n",
       "    .dataframe thead th {\n",
       "        text-align: right;\n",
       "    }\n",
       "</style>\n",
       "<table border=\"1\" class=\"dataframe\">\n",
       "  <thead>\n",
       "    <tr style=\"text-align: right;\">\n",
       "      <th></th>\n",
       "      <th>country</th>\n",
       "      <th>population</th>\n",
       "      <th>area</th>\n",
       "      <th>capital</th>\n",
       "    </tr>\n",
       "  </thead>\n",
       "  <tbody>\n",
       "    <tr>\n",
       "      <th>0</th>\n",
       "      <td>Belgium</td>\n",
       "      <td>11.3</td>\n",
       "      <td>30510</td>\n",
       "      <td>Brussels</td>\n",
       "    </tr>\n",
       "    <tr>\n",
       "      <th>1</th>\n",
       "      <td>France</td>\n",
       "      <td>64.3</td>\n",
       "      <td>671308</td>\n",
       "      <td>Paris</td>\n",
       "    </tr>\n",
       "    <tr>\n",
       "      <th>2</th>\n",
       "      <td>Germany</td>\n",
       "      <td>81.3</td>\n",
       "      <td>357050</td>\n",
       "      <td>Berlin</td>\n",
       "    </tr>\n",
       "    <tr>\n",
       "      <th>3</th>\n",
       "      <td>Netherlands</td>\n",
       "      <td>16.9</td>\n",
       "      <td>41526</td>\n",
       "      <td>Amsterdam</td>\n",
       "    </tr>\n",
       "    <tr>\n",
       "      <th>4</th>\n",
       "      <td>United Kingdom</td>\n",
       "      <td>64.9</td>\n",
       "      <td>244820</td>\n",
       "      <td>London</td>\n",
       "    </tr>\n",
       "    <tr>\n",
       "      <th>0</th>\n",
       "      <td>Nigeria</td>\n",
       "      <td>182.2</td>\n",
       "      <td>923768</td>\n",
       "      <td>Abuja</td>\n",
       "    </tr>\n",
       "    <tr>\n",
       "      <th>1</th>\n",
       "      <td>Rwanda</td>\n",
       "      <td>11.3</td>\n",
       "      <td>26338</td>\n",
       "      <td>Kigali</td>\n",
       "    </tr>\n",
       "    <tr>\n",
       "      <th>2</th>\n",
       "      <td>Egypt</td>\n",
       "      <td>94.3</td>\n",
       "      <td>1010408</td>\n",
       "      <td>Cairo</td>\n",
       "    </tr>\n",
       "    <tr>\n",
       "      <th>3</th>\n",
       "      <td>Morocco</td>\n",
       "      <td>34.4</td>\n",
       "      <td>710850</td>\n",
       "      <td>Rabat</td>\n",
       "    </tr>\n",
       "  </tbody>\n",
       "</table>\n",
       "</div>"
      ],
      "text/plain": [
       "          country  population     area    capital\n",
       "0         Belgium        11.3    30510   Brussels\n",
       "1          France        64.3   671308      Paris\n",
       "2         Germany        81.3   357050     Berlin\n",
       "3     Netherlands        16.9    41526  Amsterdam\n",
       "4  United Kingdom        64.9   244820     London\n",
       "0         Nigeria       182.2   923768      Abuja\n",
       "1          Rwanda        11.3    26338     Kigali\n",
       "2           Egypt        94.3  1010408      Cairo\n",
       "3         Morocco        34.4   710850      Rabat"
      ]
     },
     "execution_count": 5,
     "metadata": {},
     "output_type": "execute_result"
    }
   ],
   "source": [
    "pd.concat([countries_europe, countries_africa])"
   ]
  },
  {
   "cell_type": "markdown",
   "metadata": {},
   "source": [
    "When the two dataframes don't have the same set of columns, by default missing values get introduced:"
   ]
  },
  {
   "cell_type": "code",
   "execution_count": 13,
   "metadata": {},
   "outputs": [
    {
     "data": {
      "text/html": [
       "<div>\n",
       "<style scoped>\n",
       "    .dataframe tbody tr th:only-of-type {\n",
       "        vertical-align: middle;\n",
       "    }\n",
       "\n",
       "    .dataframe tbody tr th {\n",
       "        vertical-align: top;\n",
       "    }\n",
       "\n",
       "    .dataframe thead th {\n",
       "        text-align: right;\n",
       "    }\n",
       "</style>\n",
       "<table border=\"1\" class=\"dataframe\">\n",
       "  <thead>\n",
       "    <tr style=\"text-align: right;\">\n",
       "      <th></th>\n",
       "      <th>country</th>\n",
       "      <th>population</th>\n",
       "      <th>area</th>\n",
       "      <th>capital</th>\n",
       "    </tr>\n",
       "  </thead>\n",
       "  <tbody>\n",
       "    <tr>\n",
       "      <th>0</th>\n",
       "      <td>Belgium</td>\n",
       "      <td>11.3</td>\n",
       "      <td>30510.0</td>\n",
       "      <td>Brussels</td>\n",
       "    </tr>\n",
       "    <tr>\n",
       "      <th>1</th>\n",
       "      <td>France</td>\n",
       "      <td>64.3</td>\n",
       "      <td>671308.0</td>\n",
       "      <td>Paris</td>\n",
       "    </tr>\n",
       "    <tr>\n",
       "      <th>2</th>\n",
       "      <td>Germany</td>\n",
       "      <td>81.3</td>\n",
       "      <td>357050.0</td>\n",
       "      <td>Berlin</td>\n",
       "    </tr>\n",
       "    <tr>\n",
       "      <th>3</th>\n",
       "      <td>Netherlands</td>\n",
       "      <td>16.9</td>\n",
       "      <td>41526.0</td>\n",
       "      <td>Amsterdam</td>\n",
       "    </tr>\n",
       "    <tr>\n",
       "      <th>4</th>\n",
       "      <td>United Kingdom</td>\n",
       "      <td>64.9</td>\n",
       "      <td>244820.0</td>\n",
       "      <td>London</td>\n",
       "    </tr>\n",
       "    <tr>\n",
       "      <th>0</th>\n",
       "      <td>Nigeria</td>\n",
       "      <td>NaN</td>\n",
       "      <td>NaN</td>\n",
       "      <td>Abuja</td>\n",
       "    </tr>\n",
       "    <tr>\n",
       "      <th>1</th>\n",
       "      <td>Rwanda</td>\n",
       "      <td>NaN</td>\n",
       "      <td>NaN</td>\n",
       "      <td>Kigali</td>\n",
       "    </tr>\n",
       "    <tr>\n",
       "      <th>2</th>\n",
       "      <td>Egypt</td>\n",
       "      <td>NaN</td>\n",
       "      <td>NaN</td>\n",
       "      <td>Cairo</td>\n",
       "    </tr>\n",
       "    <tr>\n",
       "      <th>3</th>\n",
       "      <td>Morocco</td>\n",
       "      <td>NaN</td>\n",
       "      <td>NaN</td>\n",
       "      <td>Rabat</td>\n",
       "    </tr>\n",
       "  </tbody>\n",
       "</table>\n",
       "</div>"
      ],
      "text/plain": [
       "          country  population      area    capital\n",
       "0         Belgium        11.3   30510.0   Brussels\n",
       "1          France        64.3  671308.0      Paris\n",
       "2         Germany        81.3  357050.0     Berlin\n",
       "3     Netherlands        16.9   41526.0  Amsterdam\n",
       "4  United Kingdom        64.9  244820.0     London\n",
       "0         Nigeria         NaN       NaN      Abuja\n",
       "1          Rwanda         NaN       NaN     Kigali\n",
       "2           Egypt         NaN       NaN      Cairo\n",
       "3         Morocco         NaN       NaN      Rabat"
      ]
     },
     "execution_count": 13,
     "metadata": {},
     "output_type": "execute_result"
    }
   ],
   "source": [
    "pd.concat([countries_europe, countries_africa[['country','capital']]], sort=False)"
   ]
  },
  {
   "cell_type": "markdown",
   "metadata": {},
   "source": [
    "### Combining columns  - ``pd.concat`` with ``axis=1``"
   ]
  },
  {
   "cell_type": "markdown",
   "metadata": {},
   "source": [
    "Assume we have another DataFrame for the same countries, but with some additional statistics:"
   ]
  },
  {
   "cell_type": "code",
   "execution_count": 14,
   "metadata": {},
   "outputs": [
    {
     "data": {
      "text/html": [
       "<div>\n",
       "<style scoped>\n",
       "    .dataframe tbody tr th:only-of-type {\n",
       "        vertical-align: middle;\n",
       "    }\n",
       "\n",
       "    .dataframe tbody tr th {\n",
       "        vertical-align: top;\n",
       "    }\n",
       "\n",
       "    .dataframe thead th {\n",
       "        text-align: right;\n",
       "    }\n",
       "</style>\n",
       "<table border=\"1\" class=\"dataframe\">\n",
       "  <thead>\n",
       "    <tr style=\"text-align: right;\">\n",
       "      <th></th>\n",
       "      <th>GDP</th>\n",
       "      <th>area</th>\n",
       "    </tr>\n",
       "    <tr>\n",
       "      <th>country</th>\n",
       "      <th></th>\n",
       "      <th></th>\n",
       "    </tr>\n",
       "  </thead>\n",
       "  <tbody>\n",
       "    <tr>\n",
       "      <th>Belgium</th>\n",
       "      <td>496477</td>\n",
       "      <td>8.0</td>\n",
       "    </tr>\n",
       "    <tr>\n",
       "      <th>France</th>\n",
       "      <td>2650823</td>\n",
       "      <td>9.9</td>\n",
       "    </tr>\n",
       "    <tr>\n",
       "      <th>Netherlands</th>\n",
       "      <td>820726</td>\n",
       "      <td>5.7</td>\n",
       "    </tr>\n",
       "  </tbody>\n",
       "</table>\n",
       "</div>"
      ],
      "text/plain": [
       "                 GDP  area\n",
       "country                   \n",
       "Belgium       496477   8.0\n",
       "France       2650823   9.9\n",
       "Netherlands   820726   5.7"
      ]
     },
     "execution_count": 14,
     "metadata": {},
     "output_type": "execute_result"
    }
   ],
   "source": [
    "data = {'country': ['Belgium', 'France', 'Netherlands'],\n",
    "        'GDP': [496477, 2650823, 820726],\n",
    "        'area': [8.0, 9.9, 5.7]}\n",
    "country_economics = pd.DataFrame(data).set_index('country')\n",
    "country_economics"
   ]
  },
  {
   "cell_type": "markdown",
   "metadata": {},
   "source": [
    "## Joining data with `pd.merge`\n",
    "Using `pd.concat` above, we combined datasets that had the same columns or the same index values. But, another typical case if where you want to add information of second dataframe to a first one based on one of the columns. That can be done with [`pd.merge`](http://pandas.pydata.org/pandas-docs/stable/generated/pandas.DataFrame.merge.html).\n",
    "\n",
    "Let's look again at the primary dataset, but taking a small subset of it to make the example easier to grasp:"
   ]
  },
  {
   "cell_type": "code",
   "execution_count": 44,
   "metadata": {},
   "outputs": [],
   "source": [
    "df = pd.read_csv('data/primary.csv')"
   ]
  },
  {
   "cell_type": "code",
   "execution_count": 45,
   "metadata": {},
   "outputs": [],
   "source": [
    "data = df.loc[:20,:]"
   ]
  },
  {
   "cell_type": "code",
   "execution_count": 17,
   "metadata": {},
   "outputs": [
    {
     "data": {
      "text/html": [
       "<div>\n",
       "<style scoped>\n",
       "    .dataframe tbody tr th:only-of-type {\n",
       "        vertical-align: middle;\n",
       "    }\n",
       "\n",
       "    .dataframe tbody tr th {\n",
       "        vertical-align: top;\n",
       "    }\n",
       "\n",
       "    .dataframe thead th {\n",
       "        text-align: right;\n",
       "    }\n",
       "</style>\n",
       "<table border=\"1\" class=\"dataframe\">\n",
       "  <thead>\n",
       "    <tr style=\"text-align: right;\">\n",
       "      <th></th>\n",
       "      <th>REGION</th>\n",
       "      <th>DISTRICT</th>\n",
       "      <th>MALE</th>\n",
       "      <th>FEMALE</th>\n",
       "    </tr>\n",
       "  </thead>\n",
       "  <tbody>\n",
       "    <tr>\n",
       "      <th>0</th>\n",
       "      <td>ARUSHA</td>\n",
       "      <td>ARUSHA RURAL</td>\n",
       "      <td>32475.0</td>\n",
       "      <td>33698.0</td>\n",
       "    </tr>\n",
       "    <tr>\n",
       "      <th>1</th>\n",
       "      <td>ARUSHA</td>\n",
       "      <td>ARUSHA URBAN</td>\n",
       "      <td>36315.0</td>\n",
       "      <td>36993.0</td>\n",
       "    </tr>\n",
       "    <tr>\n",
       "      <th>2</th>\n",
       "      <td>ARUSHA</td>\n",
       "      <td>KARATU</td>\n",
       "      <td>23303.0</td>\n",
       "      <td>23181.0</td>\n",
       "    </tr>\n",
       "    <tr>\n",
       "      <th>3</th>\n",
       "      <td>ARUSHA</td>\n",
       "      <td>LONGIDO</td>\n",
       "      <td>10584.0</td>\n",
       "      <td>9045.0</td>\n",
       "    </tr>\n",
       "    <tr>\n",
       "      <th>4</th>\n",
       "      <td>ARUSHA</td>\n",
       "      <td>MERU</td>\n",
       "      <td>33854.0</td>\n",
       "      <td>34171.0</td>\n",
       "    </tr>\n",
       "    <tr>\n",
       "      <th>5</th>\n",
       "      <td>ARUSHA</td>\n",
       "      <td>MONDULI</td>\n",
       "      <td>13689.0</td>\n",
       "      <td>12888.0</td>\n",
       "    </tr>\n",
       "    <tr>\n",
       "      <th>6</th>\n",
       "      <td>ARUSHA</td>\n",
       "      <td>NGORONGORO</td>\n",
       "      <td>16017.0</td>\n",
       "      <td>12162.0</td>\n",
       "    </tr>\n",
       "    <tr>\n",
       "      <th>7</th>\n",
       "      <td>DAR ES SALAAM</td>\n",
       "      <td>ILALA</td>\n",
       "      <td>73129.0</td>\n",
       "      <td>78309.0</td>\n",
       "    </tr>\n",
       "    <tr>\n",
       "      <th>8</th>\n",
       "      <td>DAR ES SALAAM</td>\n",
       "      <td>KINONDONI</td>\n",
       "      <td>91554.0</td>\n",
       "      <td>93921.0</td>\n",
       "    </tr>\n",
       "    <tr>\n",
       "      <th>9</th>\n",
       "      <td>DAR ES SALAAM</td>\n",
       "      <td>TEMEKE</td>\n",
       "      <td>85118.0</td>\n",
       "      <td>88813.0</td>\n",
       "    </tr>\n",
       "    <tr>\n",
       "      <th>10</th>\n",
       "      <td>DODOMA</td>\n",
       "      <td>BAHI</td>\n",
       "      <td>15672.0</td>\n",
       "      <td>15967.0</td>\n",
       "    </tr>\n",
       "    <tr>\n",
       "      <th>11</th>\n",
       "      <td>DODOMA</td>\n",
       "      <td>CHAMWINO</td>\n",
       "      <td>26483.0</td>\n",
       "      <td>28264.0</td>\n",
       "    </tr>\n",
       "    <tr>\n",
       "      <th>12</th>\n",
       "      <td>DODOMA</td>\n",
       "      <td>CHEMBA</td>\n",
       "      <td>NaN</td>\n",
       "      <td>NaN</td>\n",
       "    </tr>\n",
       "    <tr>\n",
       "      <th>13</th>\n",
       "      <td>DODOMA</td>\n",
       "      <td>DODOMA URBAN</td>\n",
       "      <td>35137.0</td>\n",
       "      <td>36806.0</td>\n",
       "    </tr>\n",
       "    <tr>\n",
       "      <th>14</th>\n",
       "      <td>DODOMA</td>\n",
       "      <td>KONDOA</td>\n",
       "      <td>48859.0</td>\n",
       "      <td>55869.0</td>\n",
       "    </tr>\n",
       "    <tr>\n",
       "      <th>15</th>\n",
       "      <td>DODOMA</td>\n",
       "      <td>KONGWA</td>\n",
       "      <td>27169.0</td>\n",
       "      <td>30264.0</td>\n",
       "    </tr>\n",
       "    <tr>\n",
       "      <th>16</th>\n",
       "      <td>DODOMA</td>\n",
       "      <td>MPWAPWA</td>\n",
       "      <td>32176.0</td>\n",
       "      <td>31646.0</td>\n",
       "    </tr>\n",
       "    <tr>\n",
       "      <th>17</th>\n",
       "      <td>GEITA</td>\n",
       "      <td>BUKOMBE</td>\n",
       "      <td>39490.0</td>\n",
       "      <td>40178.0</td>\n",
       "    </tr>\n",
       "    <tr>\n",
       "      <th>18</th>\n",
       "      <td>GEITA</td>\n",
       "      <td>CHATO</td>\n",
       "      <td>39377.0</td>\n",
       "      <td>38393.0</td>\n",
       "    </tr>\n",
       "    <tr>\n",
       "      <th>19</th>\n",
       "      <td>GEITA</td>\n",
       "      <td>GEITA</td>\n",
       "      <td>115698.0</td>\n",
       "      <td>116328.0</td>\n",
       "    </tr>\n",
       "    <tr>\n",
       "      <th>20</th>\n",
       "      <td>GEITA</td>\n",
       "      <td>GEITA URBAN</td>\n",
       "      <td>NaN</td>\n",
       "      <td>NaN</td>\n",
       "    </tr>\n",
       "  </tbody>\n",
       "</table>\n",
       "</div>"
      ],
      "text/plain": [
       "           REGION      DISTRICT      MALE    FEMALE\n",
       "0          ARUSHA  ARUSHA RURAL   32475.0   33698.0\n",
       "1          ARUSHA  ARUSHA URBAN   36315.0   36993.0\n",
       "2          ARUSHA        KARATU   23303.0   23181.0\n",
       "3          ARUSHA       LONGIDO   10584.0    9045.0\n",
       "4          ARUSHA          MERU   33854.0   34171.0\n",
       "5          ARUSHA       MONDULI   13689.0   12888.0\n",
       "6          ARUSHA    NGORONGORO   16017.0   12162.0\n",
       "7   DAR ES SALAAM         ILALA   73129.0   78309.0\n",
       "8   DAR ES SALAAM     KINONDONI   91554.0   93921.0\n",
       "9   DAR ES SALAAM        TEMEKE   85118.0   88813.0\n",
       "10         DODOMA          BAHI   15672.0   15967.0\n",
       "11         DODOMA      CHAMWINO   26483.0   28264.0\n",
       "12         DODOMA        CHEMBA       NaN       NaN\n",
       "13         DODOMA  DODOMA URBAN   35137.0   36806.0\n",
       "14         DODOMA        KONDOA   48859.0   55869.0\n",
       "15         DODOMA        KONGWA   27169.0   30264.0\n",
       "16         DODOMA       MPWAPWA   32176.0   31646.0\n",
       "17          GEITA       BUKOMBE   39490.0   40178.0\n",
       "18          GEITA         CHATO   39377.0   38393.0\n",
       "19          GEITA         GEITA  115698.0  116328.0\n",
       "20          GEITA   GEITA URBAN       NaN       NaN"
      ]
     },
     "execution_count": 17,
     "metadata": {},
     "output_type": "execute_result"
    }
   ],
   "source": [
    "data"
   ]
  },
  {
   "cell_type": "markdown",
   "metadata": {},
   "source": [
    "Assume we have another dataframe with more information about the 'REGION' locations:"
   ]
  },
  {
   "cell_type": "code",
   "execution_count": 18,
   "metadata": {},
   "outputs": [],
   "source": [
    "zones = pd.DataFrame({'REGION': ['ARUSHA', 'DAR ES SALAAM', 'DODOMA', 'GEITA'],\n",
    "                          'ZONES': ['Northern zone', 'Costal zone', 'Central zone', 'Lake zone'],\n",
    "                          'COUNTRY': ['Tanzania', 'Tanzania', 'Tanzania', 'Tanzania']})"
   ]
  },
  {
   "cell_type": "code",
   "execution_count": 19,
   "metadata": {},
   "outputs": [
    {
     "data": {
      "text/html": [
       "<div>\n",
       "<style scoped>\n",
       "    .dataframe tbody tr th:only-of-type {\n",
       "        vertical-align: middle;\n",
       "    }\n",
       "\n",
       "    .dataframe tbody tr th {\n",
       "        vertical-align: top;\n",
       "    }\n",
       "\n",
       "    .dataframe thead th {\n",
       "        text-align: right;\n",
       "    }\n",
       "</style>\n",
       "<table border=\"1\" class=\"dataframe\">\n",
       "  <thead>\n",
       "    <tr style=\"text-align: right;\">\n",
       "      <th></th>\n",
       "      <th>REGION</th>\n",
       "      <th>ZONES</th>\n",
       "      <th>COUNTRY</th>\n",
       "    </tr>\n",
       "  </thead>\n",
       "  <tbody>\n",
       "    <tr>\n",
       "      <th>0</th>\n",
       "      <td>ARUSHA</td>\n",
       "      <td>Northern zone</td>\n",
       "      <td>Tanzania</td>\n",
       "    </tr>\n",
       "    <tr>\n",
       "      <th>1</th>\n",
       "      <td>DAR ES SALAAM</td>\n",
       "      <td>Costal zone</td>\n",
       "      <td>Tanzania</td>\n",
       "    </tr>\n",
       "    <tr>\n",
       "      <th>2</th>\n",
       "      <td>DODOMA</td>\n",
       "      <td>Central zone</td>\n",
       "      <td>Tanzania</td>\n",
       "    </tr>\n",
       "    <tr>\n",
       "      <th>3</th>\n",
       "      <td>GEITA</td>\n",
       "      <td>Lake zone</td>\n",
       "      <td>Tanzania</td>\n",
       "    </tr>\n",
       "  </tbody>\n",
       "</table>\n",
       "</div>"
      ],
      "text/plain": [
       "          REGION          ZONES   COUNTRY\n",
       "0         ARUSHA  Northern zone  Tanzania\n",
       "1  DAR ES SALAAM    Costal zone  Tanzania\n",
       "2         DODOMA   Central zone  Tanzania\n",
       "3          GEITA      Lake zone  Tanzania"
      ]
     },
     "execution_count": 19,
     "metadata": {},
     "output_type": "execute_result"
    }
   ],
   "source": [
    "zones"
   ]
  },
  {
   "cell_type": "markdown",
   "metadata": {},
   "source": [
    "We now want to add those columns to the data dataframe, for which we can use `pd.merge`, specifying the column on which we want to merge the two datasets:"
   ]
  },
  {
   "cell_type": "code",
   "execution_count": 32,
   "metadata": {},
   "outputs": [
    {
     "data": {
      "text/html": [
       "<div>\n",
       "<style scoped>\n",
       "    .dataframe tbody tr th:only-of-type {\n",
       "        vertical-align: middle;\n",
       "    }\n",
       "\n",
       "    .dataframe tbody tr th {\n",
       "        vertical-align: top;\n",
       "    }\n",
       "\n",
       "    .dataframe thead th {\n",
       "        text-align: right;\n",
       "    }\n",
       "</style>\n",
       "<table border=\"1\" class=\"dataframe\">\n",
       "  <thead>\n",
       "    <tr style=\"text-align: right;\">\n",
       "      <th></th>\n",
       "      <th>REGION</th>\n",
       "      <th>DISTRICT</th>\n",
       "      <th>MALE</th>\n",
       "      <th>FEMALE</th>\n",
       "      <th>ZONES</th>\n",
       "      <th>COUNTRY</th>\n",
       "    </tr>\n",
       "  </thead>\n",
       "  <tbody>\n",
       "    <tr>\n",
       "      <th>0</th>\n",
       "      <td>ARUSHA</td>\n",
       "      <td>ARUSHA RURAL</td>\n",
       "      <td>32475.0</td>\n",
       "      <td>33698.0</td>\n",
       "      <td>Northern zone</td>\n",
       "      <td>Tanzania</td>\n",
       "    </tr>\n",
       "    <tr>\n",
       "      <th>1</th>\n",
       "      <td>ARUSHA</td>\n",
       "      <td>ARUSHA URBAN</td>\n",
       "      <td>36315.0</td>\n",
       "      <td>36993.0</td>\n",
       "      <td>Northern zone</td>\n",
       "      <td>Tanzania</td>\n",
       "    </tr>\n",
       "    <tr>\n",
       "      <th>2</th>\n",
       "      <td>ARUSHA</td>\n",
       "      <td>KARATU</td>\n",
       "      <td>23303.0</td>\n",
       "      <td>23181.0</td>\n",
       "      <td>Northern zone</td>\n",
       "      <td>Tanzania</td>\n",
       "    </tr>\n",
       "    <tr>\n",
       "      <th>3</th>\n",
       "      <td>ARUSHA</td>\n",
       "      <td>LONGIDO</td>\n",
       "      <td>10584.0</td>\n",
       "      <td>9045.0</td>\n",
       "      <td>Northern zone</td>\n",
       "      <td>Tanzania</td>\n",
       "    </tr>\n",
       "    <tr>\n",
       "      <th>4</th>\n",
       "      <td>ARUSHA</td>\n",
       "      <td>MERU</td>\n",
       "      <td>33854.0</td>\n",
       "      <td>34171.0</td>\n",
       "      <td>Northern zone</td>\n",
       "      <td>Tanzania</td>\n",
       "    </tr>\n",
       "    <tr>\n",
       "      <th>5</th>\n",
       "      <td>ARUSHA</td>\n",
       "      <td>MONDULI</td>\n",
       "      <td>13689.0</td>\n",
       "      <td>12888.0</td>\n",
       "      <td>Northern zone</td>\n",
       "      <td>Tanzania</td>\n",
       "    </tr>\n",
       "    <tr>\n",
       "      <th>6</th>\n",
       "      <td>ARUSHA</td>\n",
       "      <td>NGORONGORO</td>\n",
       "      <td>16017.0</td>\n",
       "      <td>12162.0</td>\n",
       "      <td>Northern zone</td>\n",
       "      <td>Tanzania</td>\n",
       "    </tr>\n",
       "    <tr>\n",
       "      <th>7</th>\n",
       "      <td>DAR ES SALAAM</td>\n",
       "      <td>ILALA</td>\n",
       "      <td>73129.0</td>\n",
       "      <td>78309.0</td>\n",
       "      <td>Costal zone</td>\n",
       "      <td>Tanzania</td>\n",
       "    </tr>\n",
       "    <tr>\n",
       "      <th>8</th>\n",
       "      <td>DAR ES SALAAM</td>\n",
       "      <td>KINONDONI</td>\n",
       "      <td>91554.0</td>\n",
       "      <td>93921.0</td>\n",
       "      <td>Costal zone</td>\n",
       "      <td>Tanzania</td>\n",
       "    </tr>\n",
       "    <tr>\n",
       "      <th>9</th>\n",
       "      <td>DAR ES SALAAM</td>\n",
       "      <td>TEMEKE</td>\n",
       "      <td>85118.0</td>\n",
       "      <td>88813.0</td>\n",
       "      <td>Costal zone</td>\n",
       "      <td>Tanzania</td>\n",
       "    </tr>\n",
       "    <tr>\n",
       "      <th>10</th>\n",
       "      <td>DODOMA</td>\n",
       "      <td>BAHI</td>\n",
       "      <td>15672.0</td>\n",
       "      <td>15967.0</td>\n",
       "      <td>Central zone</td>\n",
       "      <td>Tanzania</td>\n",
       "    </tr>\n",
       "    <tr>\n",
       "      <th>11</th>\n",
       "      <td>DODOMA</td>\n",
       "      <td>CHAMWINO</td>\n",
       "      <td>26483.0</td>\n",
       "      <td>28264.0</td>\n",
       "      <td>Central zone</td>\n",
       "      <td>Tanzania</td>\n",
       "    </tr>\n",
       "    <tr>\n",
       "      <th>12</th>\n",
       "      <td>DODOMA</td>\n",
       "      <td>CHEMBA</td>\n",
       "      <td>NaN</td>\n",
       "      <td>NaN</td>\n",
       "      <td>Central zone</td>\n",
       "      <td>Tanzania</td>\n",
       "    </tr>\n",
       "    <tr>\n",
       "      <th>13</th>\n",
       "      <td>DODOMA</td>\n",
       "      <td>DODOMA URBAN</td>\n",
       "      <td>35137.0</td>\n",
       "      <td>36806.0</td>\n",
       "      <td>Central zone</td>\n",
       "      <td>Tanzania</td>\n",
       "    </tr>\n",
       "    <tr>\n",
       "      <th>14</th>\n",
       "      <td>DODOMA</td>\n",
       "      <td>KONDOA</td>\n",
       "      <td>48859.0</td>\n",
       "      <td>55869.0</td>\n",
       "      <td>Central zone</td>\n",
       "      <td>Tanzania</td>\n",
       "    </tr>\n",
       "    <tr>\n",
       "      <th>15</th>\n",
       "      <td>DODOMA</td>\n",
       "      <td>KONGWA</td>\n",
       "      <td>27169.0</td>\n",
       "      <td>30264.0</td>\n",
       "      <td>Central zone</td>\n",
       "      <td>Tanzania</td>\n",
       "    </tr>\n",
       "    <tr>\n",
       "      <th>16</th>\n",
       "      <td>DODOMA</td>\n",
       "      <td>MPWAPWA</td>\n",
       "      <td>32176.0</td>\n",
       "      <td>31646.0</td>\n",
       "      <td>Central zone</td>\n",
       "      <td>Tanzania</td>\n",
       "    </tr>\n",
       "    <tr>\n",
       "      <th>17</th>\n",
       "      <td>GEITA</td>\n",
       "      <td>BUKOMBE</td>\n",
       "      <td>39490.0</td>\n",
       "      <td>40178.0</td>\n",
       "      <td>Lake zone</td>\n",
       "      <td>Tanzania</td>\n",
       "    </tr>\n",
       "    <tr>\n",
       "      <th>18</th>\n",
       "      <td>GEITA</td>\n",
       "      <td>CHATO</td>\n",
       "      <td>39377.0</td>\n",
       "      <td>38393.0</td>\n",
       "      <td>Lake zone</td>\n",
       "      <td>Tanzania</td>\n",
       "    </tr>\n",
       "    <tr>\n",
       "      <th>19</th>\n",
       "      <td>GEITA</td>\n",
       "      <td>GEITA</td>\n",
       "      <td>115698.0</td>\n",
       "      <td>116328.0</td>\n",
       "      <td>Lake zone</td>\n",
       "      <td>Tanzania</td>\n",
       "    </tr>\n",
       "    <tr>\n",
       "      <th>20</th>\n",
       "      <td>GEITA</td>\n",
       "      <td>GEITA URBAN</td>\n",
       "      <td>NaN</td>\n",
       "      <td>NaN</td>\n",
       "      <td>Lake zone</td>\n",
       "      <td>Tanzania</td>\n",
       "    </tr>\n",
       "  </tbody>\n",
       "</table>\n",
       "</div>"
      ],
      "text/plain": [
       "           REGION      DISTRICT      MALE    FEMALE          ZONES   COUNTRY\n",
       "0          ARUSHA  ARUSHA RURAL   32475.0   33698.0  Northern zone  Tanzania\n",
       "1          ARUSHA  ARUSHA URBAN   36315.0   36993.0  Northern zone  Tanzania\n",
       "2          ARUSHA        KARATU   23303.0   23181.0  Northern zone  Tanzania\n",
       "3          ARUSHA       LONGIDO   10584.0    9045.0  Northern zone  Tanzania\n",
       "4          ARUSHA          MERU   33854.0   34171.0  Northern zone  Tanzania\n",
       "5          ARUSHA       MONDULI   13689.0   12888.0  Northern zone  Tanzania\n",
       "6          ARUSHA    NGORONGORO   16017.0   12162.0  Northern zone  Tanzania\n",
       "7   DAR ES SALAAM         ILALA   73129.0   78309.0    Costal zone  Tanzania\n",
       "8   DAR ES SALAAM     KINONDONI   91554.0   93921.0    Costal zone  Tanzania\n",
       "9   DAR ES SALAAM        TEMEKE   85118.0   88813.0    Costal zone  Tanzania\n",
       "10         DODOMA          BAHI   15672.0   15967.0   Central zone  Tanzania\n",
       "11         DODOMA      CHAMWINO   26483.0   28264.0   Central zone  Tanzania\n",
       "12         DODOMA        CHEMBA       NaN       NaN   Central zone  Tanzania\n",
       "13         DODOMA  DODOMA URBAN   35137.0   36806.0   Central zone  Tanzania\n",
       "14         DODOMA        KONDOA   48859.0   55869.0   Central zone  Tanzania\n",
       "15         DODOMA        KONGWA   27169.0   30264.0   Central zone  Tanzania\n",
       "16         DODOMA       MPWAPWA   32176.0   31646.0   Central zone  Tanzania\n",
       "17          GEITA       BUKOMBE   39490.0   40178.0      Lake zone  Tanzania\n",
       "18          GEITA         CHATO   39377.0   38393.0      Lake zone  Tanzania\n",
       "19          GEITA         GEITA  115698.0  116328.0      Lake zone  Tanzania\n",
       "20          GEITA   GEITA URBAN       NaN       NaN      Lake zone  Tanzania"
      ]
     },
     "execution_count": 32,
     "metadata": {},
     "output_type": "execute_result"
    }
   ],
   "source": [
    "pd.merge(data, zones, on='REGION', how='left')"
   ]
  },
  {
   "cell_type": "markdown",
   "metadata": {},
   "source": [
    "In this case we use `how='left` (a \"left join\") because we wanted to keep the original rows of `df` and only add matching values from `zones` to it. Other options are 'inner', 'outer' and 'right' (see the [docs](http://pandas.pydata.org/pandas-docs/stable/merging.html#brief-primer-on-merge-methods-relational-algebra) for more on this)."
   ]
  },
  {
   "cell_type": "markdown",
   "metadata": {},
   "source": [
    "## Group by\" operations\n",
    "Consider the following data"
   ]
  },
  {
   "cell_type": "markdown",
   "metadata": {},
   "source": [
    "When analyzing data, you often calculate summary statistics (aggregations like the mean, max, ...). As we have seen before, we can easily calculate such a statistic for a Series or column using one of the many available methods. For example:"
   ]
  },
  {
   "cell_type": "code",
   "execution_count": 33,
   "metadata": {},
   "outputs": [
    {
     "data": {
      "text/plain": [
       "4160892.0"
      ]
     },
     "execution_count": 33,
     "metadata": {},
     "output_type": "execute_result"
    }
   ],
   "source": [
    "df['FEMALE'].sum()"
   ]
  },
  {
   "cell_type": "markdown",
   "metadata": {},
   "source": [
    "However, in many cases your data has certain groups in it, and in that case, you may want to calculate this statistic for each of the groups.\n",
    "\n",
    "For example, in the above dataframe `df`,  REGION column has several possible values. When we want to calculate the sum for of FEMALE students in the three REGION, GEITA, DODOMA and ARUSHA, we could do the following:"
   ]
  },
  {
   "cell_type": "code",
   "execution_count": 34,
   "metadata": {},
   "outputs": [
    {
     "name": "stdout",
     "output_type": "stream",
     "text": [
      "GEITA 194899.0\n",
      "DODOMA 198816.0\n",
      "ARUSHA 162138.0\n"
     ]
    }
   ],
   "source": [
    "for key in ['GEITA', 'DODOMA', 'ARUSHA']:\n",
    "    print(key, df[df['REGION'] == key]['FEMALE'].sum())"
   ]
  },
  {
   "cell_type": "markdown",
   "metadata": {},
   "source": [
    "This becomes very verbose when having multiple groups. You could make the above a bit easier by looping over the different values, but still, it is not very convenient to work with.\n",
    "\n",
    "What we did above, applying a function on different groups, is a \"groupby operation\", and pandas provides some convenient functionality for this.\n",
    "\n"
   ]
  },
  {
   "cell_type": "markdown",
   "metadata": {},
   "source": [
    "The \"group by\" concept: we want to **apply the same function on subsets of your dataframe, based on some key to split the dataframe in subsets**\n",
    "\n",
    "This operation is also referred to as the \"split-apply-combine\" operation, involving the following steps:\n",
    "\n",
    "* **Splitting** the data into groups based on some criteria\n",
    "* **Applying** a function to each group independently\n",
    "* **Combining** the results into a data structure\n",
    "\n",
    "<img src=\"img/splitApplyCombine.png\">\n",
    "\n",
    "Similar to SQL `GROUP BY`"
   ]
  },
  {
   "cell_type": "code",
   "execution_count": 35,
   "metadata": {},
   "outputs": [
    {
     "data": {
      "text/html": [
       "<div>\n",
       "<style scoped>\n",
       "    .dataframe tbody tr th:only-of-type {\n",
       "        vertical-align: middle;\n",
       "    }\n",
       "\n",
       "    .dataframe tbody tr th {\n",
       "        vertical-align: top;\n",
       "    }\n",
       "\n",
       "    .dataframe thead th {\n",
       "        text-align: right;\n",
       "    }\n",
       "</style>\n",
       "<table border=\"1\" class=\"dataframe\">\n",
       "  <thead>\n",
       "    <tr style=\"text-align: right;\">\n",
       "      <th></th>\n",
       "      <th>FEMALE</th>\n",
       "    </tr>\n",
       "    <tr>\n",
       "      <th>REGION</th>\n",
       "      <th></th>\n",
       "    </tr>\n",
       "  </thead>\n",
       "  <tbody>\n",
       "    <tr>\n",
       "      <th>ARUSHA</th>\n",
       "      <td>162138.0</td>\n",
       "    </tr>\n",
       "    <tr>\n",
       "      <th>DAR ES SALAAM</th>\n",
       "      <td>261043.0</td>\n",
       "    </tr>\n",
       "    <tr>\n",
       "      <th>DODOMA</th>\n",
       "      <td>198816.0</td>\n",
       "    </tr>\n",
       "    <tr>\n",
       "      <th>GEITA</th>\n",
       "      <td>194899.0</td>\n",
       "    </tr>\n",
       "    <tr>\n",
       "      <th>IRINGA</th>\n",
       "      <td>107414.0</td>\n",
       "    </tr>\n",
       "    <tr>\n",
       "      <th>KAGERA</th>\n",
       "      <td>227473.0</td>\n",
       "    </tr>\n",
       "    <tr>\n",
       "      <th>KATAVI</th>\n",
       "      <td>44976.0</td>\n",
       "    </tr>\n",
       "    <tr>\n",
       "      <th>KIGOMA</th>\n",
       "      <td>171069.0</td>\n",
       "    </tr>\n",
       "    <tr>\n",
       "      <th>KILIMANJARO</th>\n",
       "      <td>147679.0</td>\n",
       "    </tr>\n",
       "    <tr>\n",
       "      <th>LINDI</th>\n",
       "      <td>81271.0</td>\n",
       "    </tr>\n",
       "    <tr>\n",
       "      <th>MANYARA</th>\n",
       "      <td>124969.0</td>\n",
       "    </tr>\n",
       "    <tr>\n",
       "      <th>MARA</th>\n",
       "      <td>209713.0</td>\n",
       "    </tr>\n",
       "    <tr>\n",
       "      <th>MBEYA</th>\n",
       "      <td>275118.0</td>\n",
       "    </tr>\n",
       "    <tr>\n",
       "      <th>MOROGORO</th>\n",
       "      <td>202040.0</td>\n",
       "    </tr>\n",
       "    <tr>\n",
       "      <th>MTWARA</th>\n",
       "      <td>120962.0</td>\n",
       "    </tr>\n",
       "    <tr>\n",
       "      <th>MWANZA</th>\n",
       "      <td>327066.0</td>\n",
       "    </tr>\n",
       "    <tr>\n",
       "      <th>NJOMBE</th>\n",
       "      <td>79124.0</td>\n",
       "    </tr>\n",
       "    <tr>\n",
       "      <th>PWANI</th>\n",
       "      <td>111494.0</td>\n",
       "    </tr>\n",
       "    <tr>\n",
       "      <th>RUKWA</th>\n",
       "      <td>96255.0</td>\n",
       "    </tr>\n",
       "    <tr>\n",
       "      <th>RUVUMA</th>\n",
       "      <td>145041.0</td>\n",
       "    </tr>\n",
       "    <tr>\n",
       "      <th>SHINYANGA</th>\n",
       "      <td>153218.0</td>\n",
       "    </tr>\n",
       "    <tr>\n",
       "      <th>SIMIYU</th>\n",
       "      <td>145354.0</td>\n",
       "    </tr>\n",
       "    <tr>\n",
       "      <th>SINGIDA</th>\n",
       "      <td>126755.0</td>\n",
       "    </tr>\n",
       "    <tr>\n",
       "      <th>TABORA</th>\n",
       "      <td>206371.0</td>\n",
       "    </tr>\n",
       "    <tr>\n",
       "      <th>TANGA</th>\n",
       "      <td>240634.0</td>\n",
       "    </tr>\n",
       "  </tbody>\n",
       "</table>\n",
       "</div>"
      ],
      "text/plain": [
       "                 FEMALE\n",
       "REGION                 \n",
       "ARUSHA         162138.0\n",
       "DAR ES SALAAM  261043.0\n",
       "DODOMA         198816.0\n",
       "GEITA          194899.0\n",
       "IRINGA         107414.0\n",
       "KAGERA         227473.0\n",
       "KATAVI          44976.0\n",
       "KIGOMA         171069.0\n",
       "KILIMANJARO    147679.0\n",
       "LINDI           81271.0\n",
       "MANYARA        124969.0\n",
       "MARA           209713.0\n",
       "MBEYA          275118.0\n",
       "MOROGORO       202040.0\n",
       "MTWARA         120962.0\n",
       "MWANZA         327066.0\n",
       "NJOMBE          79124.0\n",
       "PWANI          111494.0\n",
       "RUKWA           96255.0\n",
       "RUVUMA         145041.0\n",
       "SHINYANGA      153218.0\n",
       "SIMIYU         145354.0\n",
       "SINGIDA        126755.0\n",
       "TABORA         206371.0\n",
       "TANGA          240634.0"
      ]
     },
     "execution_count": 35,
     "metadata": {},
     "output_type": "execute_result"
    }
   ],
   "source": [
    "df.groupby('REGION')[[\"FEMALE\"]].sum()"
   ]
  },
  {
   "cell_type": "markdown",
   "metadata": {},
   "source": [
    "In the previous example, we  grouped by a single column by passing its name. But, a column name is not the only value you can pass as the grouper in `df.groupby(grouper)`. Other possibilities for `grouper` are:\n",
    "\n",
    "- a list of strings (to group by multiple columns)\n",
    "- a Series (similar to a string indicating a column in df) or array\n",
    "- function (to be applied on the index)\n"
   ]
  },
  {
   "cell_type": "code",
   "execution_count": 36,
   "metadata": {},
   "outputs": [
    {
     "data": {
      "text/plain": [
       "REGION         DISTRICT     \n",
       "ARUSHA         ARUSHA RURAL      33698.0\n",
       "               ARUSHA URBAN      36993.0\n",
       "               KARATU            23181.0\n",
       "               LONGIDO            9045.0\n",
       "               MERU              34171.0\n",
       "               MONDULI           12888.0\n",
       "               NGORONGORO        12162.0\n",
       "DAR ES SALAAM  ILALA             78309.0\n",
       "               KINONDONI         93921.0\n",
       "               TEMEKE            88813.0\n",
       "DODOMA         BAHI              15967.0\n",
       "               CHAMWINO          28264.0\n",
       "               CHEMBA                NaN\n",
       "               DODOMA URBAN      36806.0\n",
       "               KONDOA            55869.0\n",
       "               KONGWA            30264.0\n",
       "               MPWAPWA           31646.0\n",
       "GEITA          BUKOMBE           40178.0\n",
       "               CHATO             38393.0\n",
       "               GEITA            116328.0\n",
       "               GEITA URBAN           NaN\n",
       "               MBOGWE                NaN\n",
       "               NYANG'HWALE           NaN\n",
       "IRINGA         IRINGA RURAL      28990.0\n",
       "               IRINGA URBAN      13449.0\n",
       "               KILOLO            30316.0\n",
       "               MUFINDI           34659.0\n",
       "KAGERA         BIHARAMULO        20865.0\n",
       "               BUKOBA RURAL      28264.0\n",
       "               BUKOBA URBAN      10654.0\n",
       "                                  ...   \n",
       "SHINYANGA      USHETU                NaN\n",
       "SIMIYU         BARIADI RURAL     79153.0\n",
       "               BARIADI URBAN         NaN\n",
       "               BUSEGA                NaN\n",
       "               ITILIMA               NaN\n",
       "               MASWA             33992.0\n",
       "               MEATU             32209.0\n",
       "SINGIDA        IKUNGI                NaN\n",
       "               IRAMBA            40906.0\n",
       "               MANYONI           24947.0\n",
       "               MKALAMA               NaN\n",
       "               SINGIDA RURAL     46895.0\n",
       "               SINGIDA URBAN     14007.0\n",
       "TABORA         IGUNGA            35892.0\n",
       "               KALIUA                NaN\n",
       "               NZEGA             50067.0\n",
       "               SIKONGE           15217.0\n",
       "               TABORA URBAN      23134.0\n",
       "               URAMBO            45939.0\n",
       "               UYUI              36122.0\n",
       "TANGA          BUMBULI               NaN\n",
       "               HANDENI           35379.0\n",
       "               KILINDI           40330.0\n",
       "               KOROGWE RURAL     25000.0\n",
       "               KOROGWE URBAN      6057.0\n",
       "               LUSHOTO           70238.0\n",
       "               MKINGA            12568.0\n",
       "               MUHEZA            19650.0\n",
       "               PANGANI            4925.0\n",
       "               TANGA URBAN       26487.0\n",
       "Name: FEMALE, Length: 163, dtype: float64"
      ]
     },
     "execution_count": 36,
     "metadata": {},
     "output_type": "execute_result"
    }
   ],
   "source": [
    "df.groupby(['REGION', 'DISTRICT'])['FEMALE'].mean()"
   ]
  },
  {
   "cell_type": "markdown",
   "metadata": {},
   "source": [
    "Oftentimes you want to know how many elements there are in a certain group (or in other words: the number of occurences of the different values from a column).\n",
    "\n",
    "To get the size of the groups, we can use `size`:"
   ]
  },
  {
   "cell_type": "code",
   "execution_count": 37,
   "metadata": {},
   "outputs": [
    {
     "data": {
      "text/plain": [
       "REGION\n",
       "ARUSHA            7\n",
       "DAR ES SALAAM     3\n",
       "DODOMA            7\n",
       "GEITA             6\n",
       "IRINGA            4\n",
       "KAGERA            8\n",
       "KATAVI            4\n",
       "KIGOMA            7\n",
       "KILIMANJARO       7\n",
       "LINDI             6\n",
       "MANYARA           6\n",
       "MARA              8\n",
       "MBEYA            10\n",
       "MOROGORO          7\n",
       "MTWARA            7\n",
       "MWANZA            7\n",
       "NJOMBE            6\n",
       "PWANI             7\n",
       "RUKWA             4\n",
       "RUVUMA            6\n",
       "SHINYANGA         7\n",
       "SIMIYU            6\n",
       "SINGIDA           6\n",
       "TABORA            7\n",
       "TANGA            10\n",
       "dtype: int64"
      ]
     },
     "execution_count": 37,
     "metadata": {},
     "output_type": "execute_result"
    }
   ],
   "source": [
    "df.groupby('REGION').size()"
   ]
  },
  {
   "cell_type": "markdown",
   "metadata": {},
   "source": [
    "## Pivoting data"
   ]
  },
  {
   "cell_type": "markdown",
   "metadata": {},
   "source": [
    "People who know Excel, probably know the **Pivot** functionality:\n",
    "Reshape data (produce a “pivot” table) based on column values. Uses unique values from specified index / columns to form axes of the resulting DataFrame."
   ]
  },
  {
   "cell_type": "code",
   "execution_count": 48,
   "metadata": {},
   "outputs": [],
   "source": [
    "df = pd.DataFrame({'Month': [\"January\", \"January\", \"January\", \"January\", \n",
    "                                  \"February\", \"February\", \"February\", \"February\", \n",
    "                                  \"March\", \"March\", \"March\", \"March\"],\n",
    "                   'Category': [\"Transportation\", \"Grocery\", \"Household\", \"Entertainment\",\n",
    "                                \"Transportation\", \"Grocery\", \"Household\", \"Entertainment\",\n",
    "                                \"Transportation\", \"Grocery\", \"Household\", \"Entertainment\"],\n",
    "                   'Amount': [74., 235., 175., 100., 115., 240., 225., 125., 90., 260., 200., 120.]})"
   ]
  },
  {
   "cell_type": "code",
   "execution_count": 49,
   "metadata": {},
   "outputs": [
    {
     "data": {
      "text/html": [
       "<div>\n",
       "<style scoped>\n",
       "    .dataframe tbody tr th:only-of-type {\n",
       "        vertical-align: middle;\n",
       "    }\n",
       "\n",
       "    .dataframe tbody tr th {\n",
       "        vertical-align: top;\n",
       "    }\n",
       "\n",
       "    .dataframe thead th {\n",
       "        text-align: right;\n",
       "    }\n",
       "</style>\n",
       "<table border=\"1\" class=\"dataframe\">\n",
       "  <thead>\n",
       "    <tr style=\"text-align: right;\">\n",
       "      <th></th>\n",
       "      <th>Month</th>\n",
       "      <th>Category</th>\n",
       "      <th>Amount</th>\n",
       "    </tr>\n",
       "  </thead>\n",
       "  <tbody>\n",
       "    <tr>\n",
       "      <th>0</th>\n",
       "      <td>January</td>\n",
       "      <td>Transportation</td>\n",
       "      <td>74.0</td>\n",
       "    </tr>\n",
       "    <tr>\n",
       "      <th>1</th>\n",
       "      <td>January</td>\n",
       "      <td>Grocery</td>\n",
       "      <td>235.0</td>\n",
       "    </tr>\n",
       "    <tr>\n",
       "      <th>2</th>\n",
       "      <td>January</td>\n",
       "      <td>Household</td>\n",
       "      <td>175.0</td>\n",
       "    </tr>\n",
       "    <tr>\n",
       "      <th>3</th>\n",
       "      <td>January</td>\n",
       "      <td>Entertainment</td>\n",
       "      <td>100.0</td>\n",
       "    </tr>\n",
       "    <tr>\n",
       "      <th>4</th>\n",
       "      <td>February</td>\n",
       "      <td>Transportation</td>\n",
       "      <td>115.0</td>\n",
       "    </tr>\n",
       "    <tr>\n",
       "      <th>5</th>\n",
       "      <td>February</td>\n",
       "      <td>Grocery</td>\n",
       "      <td>240.0</td>\n",
       "    </tr>\n",
       "    <tr>\n",
       "      <th>6</th>\n",
       "      <td>February</td>\n",
       "      <td>Household</td>\n",
       "      <td>225.0</td>\n",
       "    </tr>\n",
       "    <tr>\n",
       "      <th>7</th>\n",
       "      <td>February</td>\n",
       "      <td>Entertainment</td>\n",
       "      <td>125.0</td>\n",
       "    </tr>\n",
       "    <tr>\n",
       "      <th>8</th>\n",
       "      <td>March</td>\n",
       "      <td>Transportation</td>\n",
       "      <td>90.0</td>\n",
       "    </tr>\n",
       "    <tr>\n",
       "      <th>9</th>\n",
       "      <td>March</td>\n",
       "      <td>Grocery</td>\n",
       "      <td>260.0</td>\n",
       "    </tr>\n",
       "    <tr>\n",
       "      <th>10</th>\n",
       "      <td>March</td>\n",
       "      <td>Household</td>\n",
       "      <td>200.0</td>\n",
       "    </tr>\n",
       "    <tr>\n",
       "      <th>11</th>\n",
       "      <td>March</td>\n",
       "      <td>Entertainment</td>\n",
       "      <td>120.0</td>\n",
       "    </tr>\n",
       "  </tbody>\n",
       "</table>\n",
       "</div>"
      ],
      "text/plain": [
       "       Month        Category  Amount\n",
       "0    January  Transportation    74.0\n",
       "1    January         Grocery   235.0\n",
       "2    January       Household   175.0\n",
       "3    January   Entertainment   100.0\n",
       "4   February  Transportation   115.0\n",
       "5   February         Grocery   240.0\n",
       "6   February       Household   225.0\n",
       "7   February   Entertainment   125.0\n",
       "8      March  Transportation    90.0\n",
       "9      March         Grocery   260.0\n",
       "10     March       Household   200.0\n",
       "11     March   Entertainment   120.0"
      ]
     },
     "execution_count": 49,
     "metadata": {},
     "output_type": "execute_result"
    }
   ],
   "source": [
    "df"
   ]
  },
  {
   "cell_type": "code",
   "execution_count": 56,
   "metadata": {},
   "outputs": [
    {
     "data": {
      "text/html": [
       "<div>\n",
       "<style scoped>\n",
       "    .dataframe tbody tr th:only-of-type {\n",
       "        vertical-align: middle;\n",
       "    }\n",
       "\n",
       "    .dataframe tbody tr th {\n",
       "        vertical-align: top;\n",
       "    }\n",
       "\n",
       "    .dataframe thead th {\n",
       "        text-align: right;\n",
       "    }\n",
       "</style>\n",
       "<table border=\"1\" class=\"dataframe\">\n",
       "  <thead>\n",
       "    <tr style=\"text-align: right;\">\n",
       "      <th>Category</th>\n",
       "      <th>Entertainment</th>\n",
       "      <th>Grocery</th>\n",
       "      <th>Household</th>\n",
       "      <th>Transportation</th>\n",
       "    </tr>\n",
       "    <tr>\n",
       "      <th>Month</th>\n",
       "      <th></th>\n",
       "      <th></th>\n",
       "      <th></th>\n",
       "      <th></th>\n",
       "    </tr>\n",
       "  </thead>\n",
       "  <tbody>\n",
       "    <tr>\n",
       "      <th>February</th>\n",
       "      <td>125.0</td>\n",
       "      <td>240.0</td>\n",
       "      <td>225.0</td>\n",
       "      <td>115.0</td>\n",
       "    </tr>\n",
       "    <tr>\n",
       "      <th>January</th>\n",
       "      <td>100.0</td>\n",
       "      <td>235.0</td>\n",
       "      <td>175.0</td>\n",
       "      <td>74.0</td>\n",
       "    </tr>\n",
       "    <tr>\n",
       "      <th>March</th>\n",
       "      <td>120.0</td>\n",
       "      <td>260.0</td>\n",
       "      <td>200.0</td>\n",
       "      <td>90.0</td>\n",
       "    </tr>\n",
       "  </tbody>\n",
       "</table>\n",
       "</div>"
      ],
      "text/plain": [
       "Category  Entertainment  Grocery  Household  Transportation\n",
       "Month                                                      \n",
       "February          125.0    240.0      225.0           115.0\n",
       "January           100.0    235.0      175.0            74.0\n",
       "March             120.0    260.0      200.0            90.0"
      ]
     },
     "execution_count": 56,
     "metadata": {},
     "output_type": "execute_result"
    }
   ],
   "source": [
    "df.pivot(index=\"Month\", columns=\"Category\", values=\"Amount\")"
   ]
  },
  {
   "cell_type": "code",
   "execution_count": 64,
   "metadata": {},
   "outputs": [
    {
     "data": {
      "text/html": [
       "<div>\n",
       "<style scoped>\n",
       "    .dataframe tbody tr th:only-of-type {\n",
       "        vertical-align: middle;\n",
       "    }\n",
       "\n",
       "    .dataframe tbody tr th {\n",
       "        vertical-align: top;\n",
       "    }\n",
       "\n",
       "    .dataframe thead th {\n",
       "        text-align: right;\n",
       "    }\n",
       "</style>\n",
       "<table border=\"1\" class=\"dataframe\">\n",
       "  <thead>\n",
       "    <tr style=\"text-align: right;\">\n",
       "      <th></th>\n",
       "      <th>Amount</th>\n",
       "    </tr>\n",
       "    <tr>\n",
       "      <th>Month</th>\n",
       "      <th></th>\n",
       "    </tr>\n",
       "  </thead>\n",
       "  <tbody>\n",
       "    <tr>\n",
       "      <th>February</th>\n",
       "      <td>176.25</td>\n",
       "    </tr>\n",
       "    <tr>\n",
       "      <th>January</th>\n",
       "      <td>146.00</td>\n",
       "    </tr>\n",
       "    <tr>\n",
       "      <th>March</th>\n",
       "      <td>167.50</td>\n",
       "    </tr>\n",
       "  </tbody>\n",
       "</table>\n",
       "</div>"
      ],
      "text/plain": [
       "          Amount\n",
       "Month           \n",
       "February  176.25\n",
       "January   146.00\n",
       "March     167.50"
      ]
     },
     "execution_count": 64,
     "metadata": {},
     "output_type": "execute_result"
    }
   ],
   "source": [
    "df.pivot_table(index=\"Month\", columns=None, values=\"Amount\")"
   ]
  },
  {
   "cell_type": "markdown",
   "metadata": {},
   "source": [
    "## Handling missing values with pandas "
   ]
  },
  {
   "cell_type": "markdown",
   "metadata": {},
   "source": [
    "Before you start cleaning a data set, it’s a good idea to just get a general feel for the data. After that, you can put together a plan to clean the data.\n",
    "I like to start by asking the following questions:\n",
    "* What are the features?\n",
    "* What are the expected types (int, float, string, boolean)?\n",
    "* Is there obvious missing data (values that Pandas can detect)?\n",
    "* Is there other types of missing data that’s not so obvious (can’t easily detect with Pandas)?\n",
    "\n",
    "To show you what I mean, let’s start working through the example."
   ]
  },
  {
   "cell_type": "markdown",
   "metadata": {},
   "source": [
    "<img src=\"images/data.jpg\">"
   ]
  },
  {
   "cell_type": "markdown",
   "metadata": {},
   "source": [
    "This is a much smaller dataset than what you’ll typically work with. Even though it’s a small dataset, it highlights a lot of real-world situations that you will encounter.\n",
    "\n",
    "A good way to get a quick feel for the data is to take a look at the first few rows. Here’s how you would do that in Pandas:"
   ]
  },
  {
   "cell_type": "code",
   "execution_count": 80,
   "metadata": {},
   "outputs": [
    {
     "data": {
      "text/html": [
       "<div>\n",
       "<style scoped>\n",
       "    .dataframe tbody tr th:only-of-type {\n",
       "        vertical-align: middle;\n",
       "    }\n",
       "\n",
       "    .dataframe tbody tr th {\n",
       "        vertical-align: top;\n",
       "    }\n",
       "\n",
       "    .dataframe thead th {\n",
       "        text-align: right;\n",
       "    }\n",
       "</style>\n",
       "<table border=\"1\" class=\"dataframe\">\n",
       "  <thead>\n",
       "    <tr style=\"text-align: right;\">\n",
       "      <th></th>\n",
       "      <th>PID</th>\n",
       "      <th>ST_NUM</th>\n",
       "      <th>ST_NAME</th>\n",
       "      <th>OWN_OCCUPIED</th>\n",
       "      <th>NUM_BEDROOMS</th>\n",
       "      <th>NUM_BATH</th>\n",
       "      <th>SQ_FT</th>\n",
       "    </tr>\n",
       "  </thead>\n",
       "  <tbody>\n",
       "    <tr>\n",
       "      <th>0</th>\n",
       "      <td>100001000.0</td>\n",
       "      <td>104.0</td>\n",
       "      <td>PUTNAM</td>\n",
       "      <td>Y</td>\n",
       "      <td>3</td>\n",
       "      <td>1</td>\n",
       "      <td>1000</td>\n",
       "    </tr>\n",
       "    <tr>\n",
       "      <th>1</th>\n",
       "      <td>100002000.0</td>\n",
       "      <td>197.0</td>\n",
       "      <td>LEXINGTON</td>\n",
       "      <td>N</td>\n",
       "      <td>3</td>\n",
       "      <td>1.5</td>\n",
       "      <td>--</td>\n",
       "    </tr>\n",
       "    <tr>\n",
       "      <th>2</th>\n",
       "      <td>100003000.0</td>\n",
       "      <td>NaN</td>\n",
       "      <td>LEXINGTON</td>\n",
       "      <td>N</td>\n",
       "      <td>NaN</td>\n",
       "      <td>1</td>\n",
       "      <td>850</td>\n",
       "    </tr>\n",
       "    <tr>\n",
       "      <th>3</th>\n",
       "      <td>100004000.0</td>\n",
       "      <td>201.0</td>\n",
       "      <td>BERKELEY</td>\n",
       "      <td>12</td>\n",
       "      <td>1</td>\n",
       "      <td>NaN</td>\n",
       "      <td>700</td>\n",
       "    </tr>\n",
       "    <tr>\n",
       "      <th>4</th>\n",
       "      <td>NaN</td>\n",
       "      <td>203.0</td>\n",
       "      <td>BERKELEY</td>\n",
       "      <td>Y</td>\n",
       "      <td>3</td>\n",
       "      <td>2</td>\n",
       "      <td>1600</td>\n",
       "    </tr>\n",
       "  </tbody>\n",
       "</table>\n",
       "</div>"
      ],
      "text/plain": [
       "           PID  ST_NUM    ST_NAME OWN_OCCUPIED NUM_BEDROOMS NUM_BATH SQ_FT\n",
       "0  100001000.0   104.0     PUTNAM            Y            3        1  1000\n",
       "1  100002000.0   197.0  LEXINGTON            N            3      1.5    --\n",
       "2  100003000.0     NaN  LEXINGTON            N          NaN        1   850\n",
       "3  100004000.0   201.0   BERKELEY           12            1      NaN   700\n",
       "4          NaN   203.0   BERKELEY            Y            3        2  1600"
      ]
     },
     "execution_count": 80,
     "metadata": {},
     "output_type": "execute_result"
    }
   ],
   "source": [
    "# Importing libraries\n",
    "import pandas as pd\n",
    "import numpy as np\n",
    "\n",
    "# Read csv file into a pandas dataframe\n",
    "d = pd.read_csv(\"data/property_data.csv\")\n",
    "\n",
    "# Take a look at the first few rows\n",
    "d.head()"
   ]
  },
  {
   "cell_type": "markdown",
   "metadata": {},
   "source": [
    "\n",
    "Now I can answer my original question, what are my features? It’s pretty easy to infer the following features from the column names:\n",
    "* ST_NUM: Street number\n",
    "* ST_NAME: Street name\n",
    "* OWN_OCCUPIED: Is the residence owner occupied\n",
    "* NUM_BEDROOMS: Number of bedroom\n",
    "\n",
    "We can also answer, what are the expected types?\n",
    "* ST_NUM: float or int… some sort of numeric type\n",
    "* ST_NAME: string\n",
    "* OWN_OCCUPIED: string… Y (“Yes”) or N (“No”)\n",
    "* NUM_BEDROOMS: float or int, a numeric type\n",
    "\n",
    "\n",
    "\n",
    "\n",
    "\n"
   ]
  },
  {
   "cell_type": "markdown",
   "metadata": {},
   "source": [
    "\n",
    "### Standard Missing Values\n",
    "So what do I mean by “standard missing values”? These are missing values that Pandas can detect.\n",
    "Going back to our original dataset, let’s take a look at the “Street Number” column."
   ]
  },
  {
   "cell_type": "markdown",
   "metadata": {},
   "source": [
    "Going back to our original dataset, let’s take a look at the “Street Number” column.\n",
    "<img src=\"images/data2.jpg\">"
   ]
  },
  {
   "cell_type": "markdown",
   "metadata": {},
   "source": [
    "In the third row there’s an empty cell. In the seventh row there’s an “NA” value.\n",
    "\n",
    "Clearly these are both missing values. Let’s see how Pandas deals with these."
   ]
  },
  {
   "cell_type": "code",
   "execution_count": 81,
   "metadata": {},
   "outputs": [
    {
     "name": "stdout",
     "output_type": "stream",
     "text": [
      "0    104.0\n",
      "1    197.0\n",
      "2      NaN\n",
      "3    201.0\n",
      "4    203.0\n",
      "5    207.0\n",
      "6      NaN\n",
      "7    213.0\n",
      "8    215.0\n",
      "Name: ST_NUM, dtype: float64\n",
      "###########\n",
      "0    False\n",
      "1    False\n",
      "2     True\n",
      "3    False\n",
      "4    False\n",
      "5    False\n",
      "6     True\n",
      "7    False\n",
      "8    False\n",
      "Name: ST_NUM, dtype: bool\n"
     ]
    }
   ],
   "source": [
    "# Looking at the ST_NUM column\n",
    "print (d['ST_NUM'])\n",
    "print (\"###########\")\n",
    "print (d['ST_NUM'].isnull())\n"
   ]
  },
  {
   "cell_type": "markdown",
   "metadata": {},
   "source": [
    "Taking a look at the column, we can see that Pandas filled in the blank space with “NA”. Using the isnull() method, we can confirm that both the missing value and “NA” were recognized as missing values. Both boolean responses are True.\n",
    "\n",
    "This is a simple example, but highlights an important point. Pandas will recognize both empty cells and “NA” types as missing values. In the next section, we’ll take a look at some types that Pandas won’t recognize"
   ]
  },
  {
   "cell_type": "markdown",
   "metadata": {},
   "source": [
    "### Non-Standard Missing Values\n",
    "Sometimes it might be the case where there’s missing values that have different formats.\n",
    "\n",
    "Let’s take a look at the “Number of Bedrooms” column to see what I mean."
   ]
  },
  {
   "cell_type": "markdown",
   "metadata": {},
   "source": [
    "<img src=\"images/data2.jpg\">"
   ]
  },
  {
   "cell_type": "markdown",
   "metadata": {},
   "source": [
    "In this column, there’s four missing values.\n",
    "* n/a\n",
    "* NA\n",
    "* —\n",
    "* na\n",
    "\n",
    "From the previous section, we know that Pandas will recognize “NA” as a missing value, but what about the others? Let’s take a look.\n"
   ]
  },
  {
   "cell_type": "code",
   "execution_count": 82,
   "metadata": {},
   "outputs": [
    {
     "name": "stdout",
     "output_type": "stream",
     "text": [
      "0      3\n",
      "1      3\n",
      "2    NaN\n",
      "3      1\n",
      "4      3\n",
      "5    NaN\n",
      "6      2\n",
      "7      1\n",
      "8     na\n",
      "Name: NUM_BEDROOMS, dtype: object\n",
      "#############\n",
      "0    False\n",
      "1    False\n",
      "2     True\n",
      "3    False\n",
      "4    False\n",
      "5     True\n",
      "6    False\n",
      "7    False\n",
      "8    False\n",
      "Name: NUM_BEDROOMS, dtype: bool\n"
     ]
    }
   ],
   "source": [
    "# Looking at the NUM_BEDROOMS column\n",
    "print (d['NUM_BEDROOMS'])\n",
    "print (\"#############\")\n",
    "print (d['NUM_BEDROOMS'].isnull())"
   ]
  },
  {
   "cell_type": "markdown",
   "metadata": {},
   "source": [
    "Just like before, Pandas recognized the “NA” as a missing value. Unfortunately, the other types weren’t recognized.\n",
    "\n",
    "If there’s multiple users manually entering data, then this is a common problem. Maybe i like to use “n/a” but you like to use “na”.\n",
    "\n",
    "An easy way to detect these various formats is to put them in a list. Then when we import the data, Pandas will recognize them right away. Here’s an example of how we would do that."
   ]
  },
  {
   "cell_type": "code",
   "execution_count": 83,
   "metadata": {},
   "outputs": [],
   "source": [
    "# Making a list of missing value types\n",
    "missing_values = [\"n/a\", \"na\", \"--\"]\n",
    "df = pd.read_csv(\"data/property_data.csv\", na_values = missing_values)"
   ]
  },
  {
   "cell_type": "code",
   "execution_count": 85,
   "metadata": {},
   "outputs": [
    {
     "name": "stdout",
     "output_type": "stream",
     "text": [
      "0    3.0\n",
      "1    3.0\n",
      "2    NaN\n",
      "3    1.0\n",
      "4    3.0\n",
      "5    NaN\n",
      "6    2.0\n",
      "7    1.0\n",
      "8    NaN\n",
      "Name: NUM_BEDROOMS, dtype: float64\n",
      "0    False\n",
      "1    False\n",
      "2     True\n",
      "3    False\n",
      "4    False\n",
      "5     True\n",
      "6    False\n",
      "7    False\n",
      "8     True\n",
      "Name: NUM_BEDROOMS, dtype: bool\n"
     ]
    }
   ],
   "source": [
    "# Looking at the NUM_BEDROOMS column\n",
    "print (df['NUM_BEDROOMS'])\n",
    "print (df['NUM_BEDROOMS'].isnull())"
   ]
  },
  {
   "cell_type": "markdown",
   "metadata": {},
   "source": [
    "This time, all of the different formats were recognized as missing values.\n",
    "You might not be able to catch all of these right away. As you work through the data and see other types of missing values, you can add them to the list.\n",
    "\n",
    "It’s important to recognize these non-standard types of missing values for purposes of summarizing and transforming missing values. If you try and count the number of missing values before converting these non-standard types, you could end up missing a lot of missing values.\n",
    "\n",
    "In the next section we’ll take a look at a more complicated, but very common, type of missing value."
   ]
  },
  {
   "cell_type": "markdown",
   "metadata": {},
   "source": [
    "From our previous examples, we know that Pandas will detect the empty cell in row seven in [own occupied] as a missing value. Let’s confirm with some code.\n"
   ]
  },
  {
   "cell_type": "code",
   "execution_count": 86,
   "metadata": {},
   "outputs": [
    {
     "name": "stdout",
     "output_type": "stream",
     "text": [
      "0      Y\n",
      "1      N\n",
      "2      N\n",
      "3     12\n",
      "4      Y\n",
      "5      Y\n",
      "6    NaN\n",
      "7      Y\n",
      "8      Y\n",
      "Name: OWN_OCCUPIED, dtype: object\n",
      "0    False\n",
      "1    False\n",
      "2    False\n",
      "3    False\n",
      "4    False\n",
      "5    False\n",
      "6     True\n",
      "7    False\n",
      "8    False\n",
      "Name: OWN_OCCUPIED, dtype: bool\n"
     ]
    }
   ],
   "source": [
    "# Looking at the OWN_OCCUPIED column\n",
    "print (df['OWN_OCCUPIED'])\n",
    "print (df['OWN_OCCUPIED'].isnull())"
   ]
  },
  {
   "cell_type": "markdown",
   "metadata": {},
   "source": [
    "In the fourth row, there’s the number 12. The response for Owner Occupied should clearly be a string (Y or N), so this numeric type should be a missing value.\n",
    "\n",
    "This example is a little more complicated so we’ll need to think through a strategy for detecting these types of missing values. There’s a number of different approaches, but here’s the way that I’m going to work through this one."
   ]
  },
  {
   "cell_type": "markdown",
   "metadata": {},
   "source": [
    "* Loop through the OWN_OCCUPIED column\n",
    "* Try and turn the entry into an integer\n",
    "* If the entry can be changed into an integer, enter a missing value\n",
    "* If the number can’t be an integer, we know it’s a string, so keep going\n",
    "\n",
    "Let’s take a look at the code and then we’ll go through it in detail."
   ]
  },
  {
   "cell_type": "code",
   "execution_count": 88,
   "metadata": {},
   "outputs": [],
   "source": [
    "# Detecting numbers \n",
    "cnt=0\n",
    "for row in df['OWN_OCCUPIED']:\n",
    "    try:\n",
    "        int(row)\n",
    "        df.loc[cnt, 'OWN_OCCUPIED']=np.nan\n",
    "    except ValueError:\n",
    "        pass\n",
    "    cnt+=1"
   ]
  },
  {
   "cell_type": "markdown",
   "metadata": {},
   "source": [
    "### Summarizing Missing Values\n",
    "After we’ve cleaned the missing values, we will probably want to summarize them.\n",
    "\n",
    "For instance, we might want to look at the total number of missing values for each feature."
   ]
  },
  {
   "cell_type": "code",
   "execution_count": 97,
   "metadata": {},
   "outputs": [
    {
     "data": {
      "text/plain": [
       "PID             1\n",
       "ST_NUM          2\n",
       "ST_NAME         0\n",
       "OWN_OCCUPIED    2\n",
       "NUM_BEDROOMS    3\n",
       "NUM_BATH        1\n",
       "SQ_FT           2\n",
       "dtype: int64"
      ]
     },
     "execution_count": 97,
     "metadata": {},
     "output_type": "execute_result"
    }
   ],
   "source": [
    "# Total missing values for each feature\n",
    "df.isnull().sum()"
   ]
  },
  {
   "cell_type": "markdown",
   "metadata": {},
   "source": [
    "Other times we might want to do a quick check to see if we have any missing values at all."
   ]
  },
  {
   "cell_type": "code",
   "execution_count": 96,
   "metadata": {},
   "outputs": [
    {
     "data": {
      "text/plain": [
       "True"
      ]
     },
     "execution_count": 96,
     "metadata": {},
     "output_type": "execute_result"
    }
   ],
   "source": [
    "# Any missing values?\n",
    "df.isnull().values.any()"
   ]
  },
  {
   "cell_type": "markdown",
   "metadata": {},
   "source": [
    "We might also want to get a total count of missing values."
   ]
  },
  {
   "cell_type": "code",
   "execution_count": 98,
   "metadata": {},
   "outputs": [
    {
     "data": {
      "text/plain": [
       "11"
      ]
     },
     "execution_count": 98,
     "metadata": {},
     "output_type": "execute_result"
    }
   ],
   "source": [
    "# Total number of missing values\n",
    "df.isnull().sum().sum()"
   ]
  },
  {
   "cell_type": "markdown",
   "metadata": {},
   "source": [
    "Now that we’ve summarized the number of missing values, let’s take a look at doing some simple replacements."
   ]
  },
  {
   "cell_type": "markdown",
   "metadata": {},
   "source": [
    "### Replacing\n",
    "Often times you’ll have to figure out how you want to handle missing values.\n",
    "Sometimes you’ll simply want to delete those rows, other times you’ll replace them.\n",
    "\n",
    "As I mentioned earlier, this shouldn’t be taken lightly. We’ll go over some basic imputations, but for a detailed statistical approach for dealing with missing data, [check out these awesome slides](https://github.com/matthewbrems/ODSC-missing-data-may-18/blob/master/Analysis%20with%20Missing%20Data.pdf) from data scientist Matt Brems.\n",
    "\n",
    "That being said, maybe you just want to fill in missing values with a single value."
   ]
  },
  {
   "cell_type": "code",
   "execution_count": 99,
   "metadata": {},
   "outputs": [],
   "source": [
    "# Replace missing values with a number\n",
    "df['ST_NUM'].fillna(125, inplace=True)"
   ]
  },
  {
   "cell_type": "markdown",
   "metadata": {},
   "source": [
    "A very common way to replace missing values is using a median."
   ]
  },
  {
   "cell_type": "code",
   "execution_count": 100,
   "metadata": {},
   "outputs": [],
   "source": [
    "# Replace using median \n",
    "median = df['NUM_BEDROOMS'].median()\n",
    "df['NUM_BEDROOMS'].fillna(median, inplace=True)"
   ]
  },
  {
   "cell_type": "markdown",
   "metadata": {},
   "source": [
    "### Conclusion\n",
    "Dealing with messy data is inevitable. Data cleaning is just part of the process on a data science project.\n",
    "In this last section of notebook we went over some ways to detect, summarize, and replace missing values.\n",
    "\n",
    "\n",
    "For even more resources about data cleaning, \n",
    "\n",
    "\n",
    "[check out these data science books](https://www.dataoptimal.com/data-science-books-2018/)."
   ]
  },
  {
   "cell_type": "code",
   "execution_count": null,
   "metadata": {},
   "outputs": [],
   "source": []
  }
 ],
 "metadata": {
  "kernelspec": {
   "display_name": "Python 3",
   "language": "python",
   "name": "python3"
  },
  "language_info": {
   "codemirror_mode": {
    "name": "ipython",
    "version": 3
   },
   "file_extension": ".py",
   "mimetype": "text/x-python",
   "name": "python",
   "nbconvert_exporter": "python",
   "pygments_lexer": "ipython3",
   "version": "3.7.3"
  },
  "latex_envs": {
   "LaTeX_envs_menu_present": true,
   "autoclose": false,
   "autocomplete": true,
   "bibliofile": "biblio.bib",
   "cite_by": "apalike",
   "current_citInitial": 1,
   "eqLabelWithNumbers": true,
   "eqNumInitial": 1,
   "hotkeys": {
    "equation": "Ctrl-E",
    "itemize": "Ctrl-I"
   },
   "labels_anchors": false,
   "latex_user_defs": false,
   "report_style_numbering": false,
   "user_envs_cfg": false
  }
 },
 "nbformat": 4,
 "nbformat_minor": 2
}
